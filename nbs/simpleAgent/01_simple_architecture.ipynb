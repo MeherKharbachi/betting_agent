{
 "cells": [
  {
   "cell_type": "code",
   "execution_count": null,
   "metadata": {},
   "outputs": [],
   "source": [
    "#| default_exp simple_agent.network_architecture"
   ]
  },
  {
   "cell_type": "code",
   "execution_count": null,
   "metadata": {},
   "outputs": [],
   "source": [
    "#| hide\n",
    "%load_ext autoreload\n",
    "%autoreload 2\n",
    "from IPython.core.debugger import set_trace"
   ]
  },
  {
   "cell_type": "markdown",
   "metadata": {},
   "source": [
    "# Network Architecture\n",
    "\n",
    ">  We define a custom Neural Network architecture to train our RL agent."
   ]
  },
  {
   "cell_type": "code",
   "execution_count": null,
   "metadata": {},
   "outputs": [],
   "source": [
    "#| export\n",
    "\n",
    "from typing import Tuple\n",
    "\n",
    "import torch\n",
    "import torch.nn as nn\n",
    "from d3rlpy.models.encoders import EncoderFactory"
   ]
  },
  {
   "cell_type": "markdown",
   "metadata": {},
   "source": [
    "We define here 2 constants to represent the shape of the new numerical observations and the number of units in each hidden layer in our custom Deep Neural Network."
   ]
  },
  {
   "cell_type": "code",
   "execution_count": null,
   "metadata": {},
   "outputs": [],
   "source": [
    "#| export\n",
    "\n",
    "HIDDEN_UNITS = 64"
   ]
  },
  {
   "cell_type": "markdown",
   "metadata": {},
   "source": [
    "## CustomEncoder Class"
   ]
  },
  {
   "cell_type": "markdown",
   "metadata": {},
   "source": [
    "We define a simple fully connected neural network to encode our environment observations."
   ]
  },
  {
   "cell_type": "code",
   "execution_count": null,
   "metadata": {},
   "outputs": [],
   "source": [
    "#| export\n",
    "\n",
    "\n",
    "class SimpleEncoder(nn.Module):\n",
    "    \"Set up a custom Neural Network to train RL agent.\"\n",
    "\n",
    "    def __init__(\n",
    "        self,\n",
    "        observation_shape: int,  # Environment observation shape, shape=(30,).\n",
    "        feature_size: int,  # Number of network outputs (number of environment actions).\n",
    "        hidden_units: int = HIDDEN_UNITS,  # Number of units in each hidden layer.\n",
    "    ) -> None:\n",
    "        \"Init Neural Network architecture.\"\n",
    "        # Initialize self._modules as OrderedDict.\n",
    "        super(SimpleEncoder, self).__init__()\n",
    "\n",
    "        self.feature_size = feature_size\n",
    "\n",
    "        # First Layer.\n",
    "        self.fc1 = nn.Linear(observation_shape, hidden_units)\n",
    "\n",
    "        # 2nd Layer.\n",
    "        self.fc2 = nn.Linear(hidden_units, feature_size)\n",
    "\n",
    "    def forward(\n",
    "        self,\n",
    "        x: torch.Tensor,  # Numerical observation.\n",
    "    ) -> torch.Tensor:\n",
    "        \"Process inputs\"\n",
    "        # Apply ReLU in each layer.\n",
    "        h = torch.relu(self.fc1(x))\n",
    "        h = torch.relu(self.fc2(h))\n",
    "        return h\n",
    "\n",
    "    # THIS IS IMPORTANT!(for EncoderFactory).\n",
    "    def get_feature_size(self) -> int:\n",
    "        \"Returns the number of network outputs.\"\n",
    "        return self.feature_size"
   ]
  },
  {
   "cell_type": "code",
   "execution_count": null,
   "metadata": {},
   "outputs": [],
   "source": [
    "#| export\n",
    "\n",
    "\n",
    "class SimpleEncoderFactory(EncoderFactory):\n",
    "    \"D3rlpy Custom Encoder.\"\n",
    "    # This is necessary to override the EncoderFactory.\n",
    "    TYPE = \"custom\"\n",
    "\n",
    "    def __init__(\n",
    "        self,\n",
    "        feature_size: int,  # Number of network outputs (number of environment actions).\n",
    "        observation_size: int,  # size of observation after transformation\n",
    "        hidden_units: int = HIDDEN_UNITS,  # number of hidden\n",
    "    ):\n",
    "        \"Init Encoder\"\n",
    "        self.feature_size, self.observation_size, self.hidden_units = (\n",
    "            feature_size,\n",
    "            observation_size,\n",
    "            hidden_units,\n",
    "        )\n",
    "\n",
    "    def create(\n",
    "        self,\n",
    "        observation_shape: Tuple,  # Environment observation, shape\n",
    "    ):\n",
    "        # Return the custom DNN.\n",
    "        return SimpleEncoder(self.observation_size, self.feature_size, self.hidden_units)\n",
    "\n",
    "    def get_params(\n",
    "        self,\n",
    "        deep: bool = False,  # Flag to deeply copy objects.\n",
    "    ):\n",
    "        \"Serialize neural network configuration.\"\n",
    "        return {\"feature_size\": self.feature_size}"
   ]
  },
  {
   "cell_type": "code",
   "execution_count": null,
   "metadata": {},
   "outputs": [],
   "source": [
    "#| hide\n",
    "from nbdev import nbdev_export\n",
    "\n",
    "nbdev_export()"
   ]
  }
 ],
 "metadata": {
  "kernelspec": {
   "display_name": "python3",
   "language": "python",
   "name": "python3"
  }
 },
 "nbformat": 4,
 "nbformat_minor": 4
}
