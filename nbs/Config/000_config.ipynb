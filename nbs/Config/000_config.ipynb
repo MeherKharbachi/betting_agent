{
 "cells": [
  {
   "cell_type": "code",
   "execution_count": null,
   "metadata": {},
   "outputs": [],
   "source": [
    "#| default_exp config.localconfig"
   ]
  },
  {
   "cell_type": "markdown",
   "metadata": {},
   "source": [
    "<h1><center>Config</center></h1>\n",
    "\n",
    "A set of tool-functions to assist in computations, database connection and data manipulation."
   ]
  },
  {
   "cell_type": "code",
   "execution_count": null,
   "metadata": {},
   "outputs": [],
   "source": [
    "#| hide\n",
    "from nbdev.showdoc import *"
   ]
  },
  {
   "cell_type": "markdown",
   "metadata": {},
   "source": [
    "# Load Config\n",
    "The config file for this project is defined in `toml` format and should be loaded at the start of this project. It is saved by default under `/secrets/config.toml`. It is the user responsability to make sure this file is saved at the right location"
   ]
  },
  {
   "cell_type": "code",
   "execution_count": null,
   "metadata": {},
   "outputs": [],
   "source": [
    "#| export\n",
    "import toml\n",
    "import logging\n",
    "\n",
    "# Read local `config.toml` file.\n",
    "CONFIG = toml.load(\"/secrets/config.toml\")\n",
    "\n",
    "## defined database hosts\n",
    "DB_HOSTS = set([db for db in CONFIG[\"databases\"]])\n",
    "\n",
    "## config\n",
    "logging.basicConfig(\n",
    "    level=logging.INFO, format=\"%(asctime)s - %(message)s\", datefmt=\"%Y-%m-%d %H:%M:%S\"\n",
    ")"
   ]
  },
  {
   "cell_type": "code",
   "execution_count": null,
   "metadata": {},
   "outputs": [],
   "source": [
    "#| hide\n",
    "\n",
    "import nbdev\n",
    "\n",
    "nbdev.nbdev_export()"
   ]
  }
 ],
 "metadata": {
  "kernelspec": {
   "display_name": "python3",
   "language": "python",
   "name": "python3"
  }
 },
 "nbformat": 4,
 "nbformat_minor": 4
}
