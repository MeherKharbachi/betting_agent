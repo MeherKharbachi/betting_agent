{
 "cells": [
  {
   "cell_type": "code",
   "execution_count": null,
   "metadata": {},
   "outputs": [],
   "source": [
    "#| default_exp Utils.network_architecture"
   ]
  },
  {
   "cell_type": "code",
   "execution_count": null,
   "metadata": {},
   "outputs": [],
   "source": [
    "#| hide\n",
    "%load_ext autoreload\n",
    "%autoreload 2\n",
    "from IPython.core.debugger import set_trace"
   ]
  },
  {
   "cell_type": "markdown",
   "metadata": {},
   "source": [
    "# Network Architecture\n",
    "\n",
    ">  We define a custom Neural Network architecture to train our RL agent."
   ]
  },
  {
   "cell_type": "code",
   "execution_count": null,
   "metadata": {},
   "outputs": [],
   "source": [
    "#| export\n",
    "\n",
    "import torch\n",
    "import torch.nn as nn\n",
    "from d3rlpy.models.encoders import EncoderFactory\n",
    "from typing import Tuple"
   ]
  },
  {
   "cell_type": "markdown",
   "metadata": {},
   "source": [
    "We define here 2 constants to represent the shape of the new numerical observations and the number of units in each hidden layer in our custom Deep Neural Network."
   ]
  },
  {
   "cell_type": "code",
   "execution_count": null,
   "metadata": {},
   "outputs": [],
   "source": [
    "#| export\n",
    "NEW_OBSERVATION_SHAPE = (18,)\n",
    "N_UNITS = 64"
   ]
  },
  {
   "cell_type": "markdown",
   "metadata": {},
   "source": [
    "## CustomEncoder Class"
   ]
  },
  {
   "cell_type": "markdown",
   "metadata": {},
   "source": [
    "We are constructing a custom `Deep Neural Network` to encode numerical observations in order to train our `RL Agent` (processed by the `Scaler` defined in the Scaler Notebook).\n",
    "\n",
    "In this class, we intend to overwrite the observation shape because we initially represented an observation shape of `(30,)` in our environment, and since it is preprocessed and transformed by the `Scaler` to gather `Teams features`, `1X2` and `Asian Handicap` odds, the shape has changed, and we need to overwrite it with the new numerical observation shape. The reason for this is that, during training, when the `D3rlpy` internal packages create the `EncoderFactory`, the `Neural Network Architecture` is automatically determined depending on the shape of the `GYM environment` observation."
   ]
  },
  {
   "cell_type": "code",
   "execution_count": null,
   "metadata": {},
   "outputs": [],
   "source": [
    "#| export\n",
    "\n",
    "\n",
    "class CustomEncoder(nn.Module):\n",
    "    \"Set up a custom Neural Network to train RL agent.\"\n",
    "\n",
    "    def __init__(\n",
    "        self,\n",
    "        observation_shape: Tuple,  # Environment observation shape, shape=(30,).\n",
    "        feature_size: int,  # Number of network outputs (number of environment actions).\n",
    "        n_units: int = N_UNITS,  # Number of units in each hidden layer.\n",
    "    ) -> None:\n",
    "        \"Init Neural Network architecture.\"\n",
    "        # Initialize self._modules as OrderedDict.\n",
    "        super(CustomEncoder, self).__init__()\n",
    "        # Overwrite the observation shape.(observation of the env = (30,))\n",
    "        # The numerical observation that we processed has a shape of NEW_OBSERVATION_SHAPE.\n",
    "        observation_shape = NEW_OBSERVATION_SHAPE\n",
    "        self.feature_size = feature_size\n",
    "        # First Layer.\n",
    "        self.fc1 = nn.Linear(observation_shape[0], 64)\n",
    "        # 2nd Layer.\n",
    "        self.fc2 = nn.Linear(64, feature_size)\n",
    "\n",
    "    def forward(\n",
    "        self,\n",
    "        x: torch.Tensor,  # Numerical observation.\n",
    "    ) -> torch.Tensor:\n",
    "        \"Process inputs\"\n",
    "        # Apply ReLU in each layer.\n",
    "        h = torch.relu(self.fc1(x))\n",
    "        h = torch.relu(self.fc2(h))\n",
    "        return h\n",
    "\n",
    "    # THIS IS IMPORTANT!(for EncoderFactory).\n",
    "    def get_feature_size(self) -> int:\n",
    "        \"Returns the number of network outputs.\"\n",
    "        return self.feature_size"
   ]
  },
  {
   "cell_type": "code",
   "execution_count": null,
   "metadata": {},
   "outputs": [],
   "source": [
    "#| export\n",
    "\n",
    "\n",
    "class CustomEncoderFactory(EncoderFactory):\n",
    "    \"D3rlpy Custom Encoder.\"\n",
    "    # This is necessary to override the EncoderFactory.\n",
    "    TYPE = \"custom\"\n",
    "\n",
    "    def __init__(\n",
    "        self,\n",
    "        feature_size: int,  # Number of network outputs (number of environment actions).\n",
    "    ):\n",
    "        \"Init Encoder\"\n",
    "        # Number of Network outputs.\n",
    "        self.feature_size = feature_size\n",
    "\n",
    "    def create(\n",
    "        self,\n",
    "        observation_shape: Tuple,  # Environment observation, shape=(30,).\n",
    "    ):\n",
    "        # Return the custom DNN.\n",
    "        return CustomEncoder(observation_shape, self.feature_size)\n",
    "\n",
    "    def get_params(\n",
    "        self,\n",
    "        deep: bool = False,  # Flag to deeply copy objects.\n",
    "    ):\n",
    "        \"Serialize neural network configuration.\"\n",
    "        return {\"feature_size\": self.feature_size}"
   ]
  },
  {
   "cell_type": "code",
   "execution_count": null,
   "metadata": {},
   "outputs": [],
   "source": [
    "#| hide\n",
    "from nbdev import nbdev_export\n",
    "\n",
    "nbdev_export()"
   ]
  }
 ],
 "metadata": {
  "kernelspec": {
   "display_name": "python3",
   "language": "python",
   "name": "python3"
  }
 },
 "nbformat": 4,
 "nbformat_minor": 4
}
