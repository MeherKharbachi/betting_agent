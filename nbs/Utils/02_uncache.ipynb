{
 "cells": [
  {
   "cell_type": "code",
   "execution_count": null,
   "id": "80cc4a15-eae6-47f7-8903-7fb393b4a171",
   "metadata": {},
   "outputs": [],
   "source": [
    "#| default_exp Utils.uncache"
   ]
  },
  {
   "cell_type": "code",
   "execution_count": null,
   "id": "ae97ec29-45a6-4350-8cc8-7eb204b5cf2d",
   "metadata": {},
   "outputs": [],
   "source": [
    "#| hide\n",
    "from IPython.core.debugger import set_trace\n",
    "\n",
    "%load_ext autoreload\n",
    "%autoreload 2"
   ]
  },
  {
   "cell_type": "markdown",
   "id": "99447acc",
   "metadata": {},
   "source": [
    "# Unchache\n",
    "> Reload all affected packages and modules."
   ]
  },
  {
   "cell_type": "code",
   "execution_count": null,
   "id": "1cc0a87b",
   "metadata": {},
   "outputs": [],
   "source": [
    "#| export\n",
    "import sys"
   ]
  },
  {
   "cell_type": "markdown",
   "id": "a5b8623a-1be8-4ca6-a2f7-f92438b24bcf",
   "metadata": {},
   "source": [
    "## Uncache function\n",
    "\n",
    "In this package, we will apply a concept called `Monkey-patching` that aims to change and improve used third-party libraries (in our case, D3RLPY) behaviour.\n",
    "\n",
    "In this regard, we have to set a function that reload all affected packages and modules. To do so, we need to delete them from memory cache."
   ]
  },
  {
   "cell_type": "code",
   "execution_count": null,
   "id": "f25d74ac-d7eb-4ec8-bc1d-b6492d2487c3",
   "metadata": {},
   "outputs": [],
   "source": [
    "# | export\n",
    "\n",
    "\n",
    "def uncache(\n",
    "    exclude: str,  # excluded packages\n",
    ") -> None:\n",
    "    \"Remove package modules from cache except excluded ones. On next import they will be reloaded.\"\n",
    "    # Init packages\n",
    "    pkgs = []\n",
    "    # Append packages to exclude\n",
    "    for mod in exclude:\n",
    "        pkg = mod.split(\".\", 1)[0]\n",
    "        pkgs.append(pkg)\n",
    "\n",
    "    # Remove packages from cache\n",
    "    to_uncache = []\n",
    "    # loop over modules\n",
    "    for mod in sys.modules:\n",
    "        if mod in exclude:\n",
    "            continue\n",
    "        if mod in pkgs:\n",
    "            to_uncache.append(mod)\n",
    "            continue\n",
    "        for pkg in pkgs:\n",
    "            if mod.startswith(pkg + \".\"):\n",
    "                to_uncache.append(mod)\n",
    "                break\n",
    "    for mod in to_uncache:\n",
    "        del sys.modules[mod]"
   ]
  },
  {
   "cell_type": "code",
   "execution_count": null,
   "id": "c8594c29-a9fc-48fc-9a44-95126079ddf7",
   "metadata": {},
   "outputs": [],
   "source": [
    "#| hide\n",
    "from nbdev import nbdev_export\n",
    "\n",
    "nbdev_export()"
   ]
  }
 ],
 "metadata": {
  "kernelspec": {
   "display_name": "python3",
   "language": "python",
   "name": "python3"
  }
 },
 "nbformat": 4,
 "nbformat_minor": 5
}
